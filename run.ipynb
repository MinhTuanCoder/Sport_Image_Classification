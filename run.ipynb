{
 "cells": [
  {
   "cell_type": "markdown",
   "metadata": {},
   "source": [
    "Khai báo thư viện"
   ]
  },
  {
   "cell_type": "code",
   "execution_count": 2,
   "metadata": {},
   "outputs": [],
   "source": [
    "import pandas as pd\n",
    "import numpy as np\n",
    "import matplotlib.pyplot as plt\n",
    "import seaborn as sns\n",
    "import tensorflow as tf\n",
    "import numpy as np\n",
    "import tensorflow as tf\n",
    "from tensorflow import keras\n",
    "import PIL\n",
    "import warnings\n",
    "warnings.filterwarnings(\"ignore\")"
   ]
  },
  {
   "cell_type": "markdown",
   "metadata": {},
   "source": [
    "Lấy đường dẫn dữ liệu"
   ]
  },
  {
   "cell_type": "code",
   "execution_count": 3,
   "metadata": {},
   "outputs": [
    {
     "name": "stdout",
     "output_type": "stream",
     "text": [
      "308 164\n"
     ]
    }
   ],
   "source": [
    "image=PIL.Image.open(\"./dataset/train/001d7af96b.jpg\")\n",
    "height,width=image.size\n",
    "print(height,width)"
   ]
  },
  {
   "cell_type": "code",
   "execution_count": 4,
   "metadata": {},
   "outputs": [
    {
     "data": {
      "text/html": [
       "<div>\n",
       "<style scoped>\n",
       "    .dataframe tbody tr th:only-of-type {\n",
       "        vertical-align: middle;\n",
       "    }\n",
       "\n",
       "    .dataframe tbody tr th {\n",
       "        vertical-align: top;\n",
       "    }\n",
       "\n",
       "    .dataframe thead th {\n",
       "        text-align: right;\n",
       "    }\n",
       "</style>\n",
       "<table border=\"1\" class=\"dataframe\">\n",
       "  <thead>\n",
       "    <tr style=\"text-align: right;\">\n",
       "      <th></th>\n",
       "      <th>image_ID</th>\n",
       "      <th>label</th>\n",
       "    </tr>\n",
       "  </thead>\n",
       "  <tbody>\n",
       "    <tr>\n",
       "      <th>0</th>\n",
       "      <td>7c225f7b61.jpg</td>\n",
       "      <td>Badminton</td>\n",
       "    </tr>\n",
       "    <tr>\n",
       "      <th>1</th>\n",
       "      <td>b31.jpg</td>\n",
       "      <td>Badminton</td>\n",
       "    </tr>\n",
       "    <tr>\n",
       "      <th>2</th>\n",
       "      <td>acb146546c.jpg</td>\n",
       "      <td>Badminton</td>\n",
       "    </tr>\n",
       "    <tr>\n",
       "      <th>3</th>\n",
       "      <td>0e62f4d8f2.jpg</td>\n",
       "      <td>Badminton</td>\n",
       "    </tr>\n",
       "    <tr>\n",
       "      <th>4</th>\n",
       "      <td>cfd2c28c74.jpg</td>\n",
       "      <td>Cricket</td>\n",
       "    </tr>\n",
       "  </tbody>\n",
       "</table>\n",
       "</div>"
      ],
      "text/plain": [
       "         image_ID      label\n",
       "0  7c225f7b61.jpg  Badminton\n",
       "1         b31.jpg  Badminton\n",
       "2  acb146546c.jpg  Badminton\n",
       "3  0e62f4d8f2.jpg  Badminton\n",
       "4  cfd2c28c74.jpg    Cricket"
      ]
     },
     "execution_count": 4,
     "metadata": {},
     "output_type": "execute_result"
    }
   ],
   "source": [
    "train_data=pd.read_csv(\"./dataset/train.csv\")\n",
    "train_data.head()"
   ]
  },
  {
   "cell_type": "code",
   "execution_count": 5,
   "metadata": {},
   "outputs": [
    {
     "data": {
      "text/plain": [
       "array(['Badminton', 'Badminton', 'Badminton', ..., 'Tennis', 'Tennis',\n",
       "       'Swimming'], dtype=object)"
      ]
     },
     "execution_count": 5,
     "metadata": {},
     "output_type": "execute_result"
    }
   ],
   "source": [
    "train_data[\"label\"].values"
   ]
  },
  {
   "cell_type": "code",
   "execution_count": 6,
   "metadata": {},
   "outputs": [],
   "source": [
    "image_to_label_map=dict(zip(train_data[\"image_ID\"].values,train_data[\"label\"].values))"
   ]
  },
  {
   "cell_type": "code",
   "execution_count": 7,
   "metadata": {},
   "outputs": [
    {
     "name": "stdout",
     "output_type": "stream",
     "text": [
      "['Badminton' 'Cricket' 'Tennis' 'Swimming' 'Soccer' 'Wrestling' 'Karate']\n",
      "7\n"
     ]
    }
   ],
   "source": [
    "# Lấy ra tên các nhãn có trong tập dữ liệu\n",
    "unique_classes=train_data[\"label\"].unique()\n",
    "print(unique_classes)\n",
    "print(len(unique_classes))"
   ]
  },
  {
   "cell_type": "code",
   "execution_count": 8,
   "metadata": {},
   "outputs": [
    {
     "data": {
      "image/png": "[encoded data removed]",
      "text/plain": [
       "<Figure size 640x480 with 1 Axes>"
      ]
     },
     "metadata": {},
     "output_type": "display_data"
    }
   ],
   "source": [
    "sns.countplot(data=train_data,x=\"label\");"
   ]
  },
  {
   "cell_type": "code",
   "execution_count": 9,
   "metadata": {},
   "outputs": [],
   "source": [
    "from os import makedirs\n",
    "#Tạo các thư mục\n",
    "dataset_home=\"./\"\n",
    "subdirs=[\"train/\",\"validation/\"]\n",
    "\n",
    "for subdir in subdirs:\n",
    "    # Tạo các thư mục nhãn\n",
    "    labeldirs=unique_classes\n",
    "    for label in labeldirs:\n",
    "        new_dir=dataset_home+subdir+label+\"/\"\n",
    "        makedirs(new_dir,exist_ok=True)"
   ]
  },
  {
   "cell_type": "markdown",
   "metadata": {},
   "source": [
    "Tách tập dữ liệu ra làm 2 phần để train và validate với tỷ lệ 80:20"
   ]
  },
  {
   "cell_type": "code",
   "execution_count": null,
   "metadata": {},
   "outputs": [],
   "source": [
    "from shutil import copyfile\n",
    "from os import listdir\n",
    "\n",
    "import random\n",
    "from random import seed\n",
    "# Định nghĩa tỷ lệ chia\n",
    "val_ratio=0.20\n",
    "# Copy ảnh chuyển ra các folder với tên nhãn riêng\n",
    "src_directory=\"./dataset/train\"\n",
    "for file in listdir(src_directory):\n",
    "    src=src_directory+\"/\"+file\n",
    "    dst_directory=\"./train/\"\n",
    "    if(random.random()<val_ratio):\n",
    "        dst_directory=\"./validation/\"\n",
    "    dst=dst_directory+\"/\"+str(image_to_label_map[file])+\"/\"+file #ảnh có nhãn nào sẽ thuộc về folder đó\n",
    "    copyfile(src,dst)"
   ]
  },
  {
   "cell_type": "code",
   "execution_count": 10,
   "metadata": {},
   "outputs": [],
   "source": [
    "# Create DataGenerator\n",
    "from tensorflow.keras.preprocessing.image import ImageDataGenerator\n",
    "from tensorflow.keras.preprocessing.image import ImageDataGenerator\n",
    "train_datagen=ImageDataGenerator(\n",
    "    rescale=1./255,#chuẩn hóa 0-1\n",
    "    rotation_range=40, #Xoay ngẫu nhiên\n",
    "    width_shift_range=0.2, #dịch ngang ngẫu nhiên -20 đến 20%\n",
    "    height_shift_range=0.2, #dịch lên ...\n",
    "  #  shear_range=0.2, #biến dạng ngẫu nhiên -20 : 20\n",
    "  #  zoom_range=0.2,#zoom ngẫu nhiên\n",
    "    horizontal_flip=True, #lật ngẫu nhiên\n",
    "    fill_mode=\"nearest\" #điền vào pixel trống bằng pixel gần nhất\n",
    ")\n",
    "test_datagen=ImageDataGenerator(rescale=1./255) #dữ liệu test thì giữ nguyên hình dạng"
   ]
  },
  {
   "cell_type": "code",
   "execution_count": 11,
   "metadata": {},
   "outputs": [
    {
     "name": "stdout",
     "output_type": "stream",
     "text": [
      "Found 6550 images belonging to 7 classes.\n",
      "Found 1677 images belonging to 7 classes.\n"
     ]
    }
   ],
   "source": [
    "train_directory=\"./train\"\n",
    "validation_directory=\"./validation\"\n",
    "#định nghĩa kích thước ảnh và bactch_size\n",
    "img_height,img_width=224,224\n",
    "batch_size=128\n",
    "train_generator=train_datagen.flow_from_directory(\n",
    "    train_directory,\n",
    "    target_size=(img_width,img_height),\n",
    "    batch_size=batch_size,\n",
    "    class_mode=\"categorical\"\n",
    ")\n",
    "validation_generator=test_datagen.flow_from_directory(\n",
    "    validation_directory,\n",
    "    target_size=(img_width,img_height),\n",
    "    batch_size=batch_size,\n",
    "    class_mode=\"categorical\"\n",
    ")"
   ]
  },
  {
   "cell_type": "code",
   "execution_count": 12,
   "metadata": {},
   "outputs": [
    {
     "data": {
      "text/plain": [
       "(224, 224, 3)"
      ]
     },
     "execution_count": 12,
     "metadata": {},
     "output_type": "execute_result"
    }
   ],
   "source": [
    "train_generator.image_shape"
   ]
  },
  {
   "cell_type": "code",
   "execution_count": 13,
   "metadata": {},
   "outputs": [],
   "source": [
    "vgg_base_model=keras.applications.VGG16(\n",
    "weights=\"imagenet\",   # Lấy trọng số đc huấn luyện sẵn từ ImageNet dataset\n",
    "input_shape=(224,224,3),\n",
    "include_top=False) #không lấy 3 lớp fully connected layers."
   ]
  },
  {
   "cell_type": "code",
   "execution_count": 14,
   "metadata": {},
   "outputs": [
    {
     "name": "stdout",
     "output_type": "stream",
     "text": [
      "input_1 True\n",
      "block1_conv1 True\n",
      "block1_conv2 True\n",
      "block1_pool True\n",
      "block2_conv1 True\n",
      "block2_conv2 True\n",
      "block2_pool True\n",
      "block3_conv1 True\n",
      "block3_conv2 True\n",
      "block3_conv3 True\n",
      "block3_pool True\n",
      "block4_conv1 True\n",
      "block4_conv2 True\n",
      "block4_conv3 True\n",
      "block4_pool True\n",
      "block5_conv1 True\n",
      "block5_conv2 True\n",
      "block5_conv3 True\n",
      "block5_pool True\n"
     ]
    }
   ],
   "source": [
    "for l in vgg_base_model.layers: #in ra các lớp sử dụng trong model\n",
    "    print(l.name,l.trainable)"
   ]
  },
  {
   "cell_type": "code",
   "execution_count": 15,
   "metadata": {},
   "outputs": [
    {
     "name": "stdout",
     "output_type": "stream",
     "text": [
      "Model: \"vgg16\"\n",
      "_________________________________________________________________\n",
      " Layer (type)                Output Shape              Param #   \n",
      "=================================================================\n",
      " input_1 (InputLayer)        [(None, 224, 224, 3)]     0         \n",
      "                                                                 \n",
      " block1_conv1 (Conv2D)       (None, 224, 224, 64)      1792      \n",
      "                                                                 \n",
      " block1_conv2 (Conv2D)       (None, 224, 224, 64)      36928     \n",
      "                                                                 \n",
      " block1_pool (MaxPooling2D)  (None, 112, 112, 64)      0         \n",
      "                                                                 \n",
      " block2_conv1 (Conv2D)       (None, 112, 112, 128)     73856     \n",
      "                                                                 \n",
      " block2_conv2 (Conv2D)       (None, 112, 112, 128)     147584    \n",
      "                                                                 \n",
      " block2_pool (MaxPooling2D)  (None, 56, 56, 128)       0         \n",
      "                                                                 \n",
      " block3_conv1 (Conv2D)       (None, 56, 56, 256)       295168    \n",
      "                                                                 \n",
      " block3_conv2 (Conv2D)       (None, 56, 56, 256)       590080    \n",
      "                                                                 \n",
      " block3_conv3 (Conv2D)       (None, 56, 56, 256)       590080    \n",
      "                                                                 \n",
      " block3_pool (MaxPooling2D)  (None, 28, 28, 256)       0         \n",
      "                                                                 \n",
      " block4_conv1 (Conv2D)       (None, 28, 28, 512)       1180160   \n",
      "                                                                 \n",
      " block4_conv2 (Conv2D)       (None, 28, 28, 512)       2359808   \n",
      "                                                                 \n",
      " block4_conv3 (Conv2D)       (None, 28, 28, 512)       2359808   \n",
      "                                                                 \n",
      " block4_pool (MaxPooling2D)  (None, 14, 14, 512)       0         \n",
      "                                                                 \n",
      " block5_conv1 (Conv2D)       (None, 14, 14, 512)       2359808   \n",
      "                                                                 \n",
      " block5_conv2 (Conv2D)       (None, 14, 14, 512)       2359808   \n",
      "                                                                 \n",
      " block5_conv3 (Conv2D)       (None, 14, 14, 512)       2359808   \n",
      "                                                                 \n",
      " block5_pool (MaxPooling2D)  (None, 7, 7, 512)         0         \n",
      "                                                                 \n",
      "=================================================================\n",
      "Total params: 14714688 (56.13 MB)\n",
      "Trainable params: 14714688 (56.13 MB)\n",
      "Non-trainable params: 0 (0.00 Byte)\n",
      "_________________________________________________________________\n"
     ]
    }
   ],
   "source": [
    "vgg_base_model.summary()"
   ]
  },
  {
   "cell_type": "code",
   "execution_count": 16,
   "metadata": {},
   "outputs": [],
   "source": [
    "for l in vgg_base_model.layers[:-4]: #chỉ sử dụng vào 4 đặc trưng quan trọng nhất của ảnh\n",
    "    l.trainable=False"
   ]
  },
  {
   "cell_type": "code",
   "execution_count": 17,
   "metadata": {},
   "outputs": [
    {
     "name": "stdout",
     "output_type": "stream",
     "text": [
      "input_1 False\n",
      "block1_conv1 False\n",
      "block1_conv2 False\n",
      "block1_pool False\n",
      "block2_conv1 False\n",
      "block2_conv2 False\n",
      "block2_pool False\n",
      "block3_conv1 False\n",
      "block3_conv2 False\n",
      "block3_conv3 False\n",
      "block3_pool False\n",
      "block4_conv1 False\n",
      "block4_conv2 False\n",
      "block4_conv3 False\n",
      "block4_pool False\n",
      "block5_conv1 True\n",
      "block5_conv2 True\n",
      "block5_conv3 True\n",
      "block5_pool True\n"
     ]
    }
   ],
   "source": [
    "for l in vgg_base_model.layers:\n",
    "    print(l.name, l.trainable)"
   ]
  },
  {
   "cell_type": "markdown",
   "metadata": {},
   "source": [
    "Định nghĩa model huấn luyện để phân loại, với đầu vào là ảnh 224,224,3 ra đầu ra là lớp phân loại cho 7 nhãn"
   ]
  },
  {
   "cell_type": "code",
   "execution_count": 18,
   "metadata": {},
   "outputs": [],
   "source": [
    "inputs=keras.Input(shape=(224,224,3))\n",
    "x=vgg_base_model(inputs) #sử dụng mô hình VGG16 để trích chọn các đặc trưng ảnh\n",
    "x=keras.layers.GlobalAveragePooling2D()(x) #trung bình các đặc trưng về vector 2D\n",
    "x=keras.layers.Dense(512,activation=\"relu\")(x) #tạo lớp ẩn khác với 512 neuron\n",
    "x=keras.layers.Dropout(0.3)(x) #Tỷ lệ các neuron được tắt là 0.3 để tránh overfit\n",
    "outputs=keras.layers.Dense(7,activation=\"softmax\")(x) #Tạo lớp đầu ra để phân lớp\n",
    "model=keras.Model(inputs,outputs)"
   ]
  },
  {
   "cell_type": "code",
   "execution_count": 19,
   "metadata": {},
   "outputs": [
    {
     "name": "stdout",
     "output_type": "stream",
     "text": [
      "Model: \"model\"\n",
      "_________________________________________________________________\n",
      " Layer (type)                Output Shape              Param #   \n",
      "=================================================================\n",
      " input_2 (InputLayer)        [(None, 224, 224, 3)]     0         \n",
      "                                                                 \n",
      " vgg16 (Functional)          (None, 7, 7, 512)         14714688  \n",
      "                                                                 \n",
      " global_average_pooling2d (  (None, 512)               0         \n",
      " GlobalAveragePooling2D)                                         \n",
      "                                                                 \n",
      " dense (Dense)               (None, 512)               262656    \n",
      "                                                                 \n",
      " dropout (Dropout)           (None, 512)               0         \n",
      "                                                                 \n",
      " dense_1 (Dense)             (None, 7)                 3591      \n",
      "                                                                 \n",
      "=================================================================\n",
      "Total params: 14980935 (57.15 MB)\n",
      "Trainable params: 7345671 (28.02 MB)\n",
      "Non-trainable params: 7635264 (29.13 MB)\n",
      "_________________________________________________________________\n"
     ]
    }
   ],
   "source": [
    "model.summary()"
   ]
  },
  {
   "cell_type": "code",
   "execution_count": 20,
   "metadata": {},
   "outputs": [
    {
     "name": "stdout",
     "output_type": "stream",
     "text": [
      "Epoch 1/30\n",
      "52/52 [==============================] - 1716s 33s/step - loss: 1.9620 - accuracy: 0.1837 - val_loss: 1.8749 - val_accuracy: 0.2129 - lr: 0.0010\n",
      "Epoch 2/30\n",
      "52/52 [==============================] - 1772s 34s/step - loss: 1.8556 - accuracy: 0.2217 - val_loss: 1.8056 - val_accuracy: 0.2510 - lr: 0.0010\n",
      "Epoch 3/30\n",
      "52/52 [==============================] - 1810s 35s/step - loss: 1.7388 - accuracy: 0.3002 - val_loss: 1.6032 - val_accuracy: 0.3870 - lr: 0.0010\n",
      "Epoch 4/30\n",
      "52/52 [==============================] - 1873s 36s/step - loss: 1.5360 - accuracy: 0.3937 - val_loss: 1.4071 - val_accuracy: 0.4371 - lr: 0.0010\n",
      "Epoch 5/30\n",
      "52/52 [==============================] - 1757s 34s/step - loss: 1.3156 - accuracy: 0.4815 - val_loss: 1.1396 - val_accuracy: 0.5522 - lr: 0.0010\n",
      "Epoch 6/30\n",
      "52/52 [==============================] - 1762s 34s/step - loss: 1.0817 - accuracy: 0.5730 - val_loss: 0.8286 - val_accuracy: 0.6959 - lr: 0.0010\n",
      "Epoch 7/30\n",
      "52/52 [==============================] - 1757s 34s/step - loss: 0.8166 - accuracy: 0.6966 - val_loss: 0.7274 - val_accuracy: 0.7376 - lr: 0.0010\n",
      "Epoch 8/30\n",
      "52/52 [==============================] - 1821s 35s/step - loss: 0.6837 - accuracy: 0.7452 - val_loss: 0.6179 - val_accuracy: 0.7865 - lr: 0.0010\n",
      "Epoch 9/30\n",
      "52/52 [==============================] - 1832s 35s/step - loss: 0.5873 - accuracy: 0.7876 - val_loss: 0.5504 - val_accuracy: 0.8157 - lr: 0.0010\n",
      "Epoch 10/30\n",
      "52/52 [==============================] - 1808s 35s/step - loss: 0.5172 - accuracy: 0.8148 - val_loss: 0.5310 - val_accuracy: 0.8318 - lr: 0.0010\n",
      "Epoch 11/30\n",
      "52/52 [==============================] - 1804s 35s/step - loss: 0.4521 - accuracy: 0.8389 - val_loss: 0.4529 - val_accuracy: 0.8533 - lr: 0.0010\n",
      "Epoch 12/30\n",
      "52/52 [==============================] - 1956s 38s/step - loss: 0.3784 - accuracy: 0.8661 - val_loss: 0.4041 - val_accuracy: 0.8718 - lr: 0.0010\n",
      "Epoch 13/30\n",
      "52/52 [==============================] - 2042s 39s/step - loss: 0.3348 - accuracy: 0.8860 - val_loss: 0.3907 - val_accuracy: 0.8772 - lr: 0.0010\n",
      "Epoch 14/30\n",
      "52/52 [==============================] - 1827s 35s/step - loss: 0.3140 - accuracy: 0.8898 - val_loss: 0.3943 - val_accuracy: 0.8825 - lr: 0.0010\n",
      "Epoch 15/30\n",
      "52/52 [==============================] - 1876s 36s/step - loss: 0.3281 - accuracy: 0.8905 - val_loss: 0.4230 - val_accuracy: 0.8807 - lr: 0.0010\n",
      "Epoch 16/30\n",
      "52/52 [==============================] - 1815s 35s/step - loss: 0.2542 - accuracy: 0.9153 - val_loss: 0.3358 - val_accuracy: 0.8939 - lr: 0.0010\n",
      "Epoch 17/30\n",
      "52/52 [==============================] - 1757s 34s/step - loss: 0.2233 - accuracy: 0.9246 - val_loss: 0.3941 - val_accuracy: 0.8980 - lr: 0.0010\n",
      "Epoch 18/30\n",
      "52/52 [==============================] - 1795s 35s/step - loss: 0.1951 - accuracy: 0.9360 - val_loss: 0.3882 - val_accuracy: 0.8933 - lr: 0.0010\n",
      "Epoch 19/30\n",
      "52/52 [==============================] - ETA: 0s - loss: 0.2182 - accuracy: 0.9250 \n",
      "Epoch 19: ReduceLROnPlateau reducing learning rate to 0.00010000000474974513.\n",
      "52/52 [==============================] - 1917s 37s/step - loss: 0.2182 - accuracy: 0.9250 - val_loss: 0.3750 - val_accuracy: 0.8980 - lr: 0.0010\n"
     ]
    },
    {
     "data": {
      "text/plain": [
       "<keras.src.callbacks.History at 0x26b6ec15f10>"
      ]
     },
     "execution_count": 20,
     "metadata": {},
     "output_type": "execute_result"
    }
   ],
   "source": [
    "from tensorflow.keras.callbacks import EarlyStopping\n",
    "from tensorflow.keras.callbacks import ReduceLROnPlateau\n",
    "from tensorflow.keras.callbacks import ModelCheckpoint\n",
    "\n",
    "model.compile(loss='categorical_crossentropy', optimizer=keras.optimizers.Adam(learning_rate=0.001), metrics=['accuracy'])\n",
    "earlyStopping = EarlyStopping(monitor='val_loss', patience=3, verbose=0, mode='min')\n",
    "mcp_save = ModelCheckpoint('ModelVGG16_Classification.hdf5', save_best_only=True, monitor='val_loss', mode='min')\n",
    "reduce_lr_loss = ReduceLROnPlateau(monitor='val_loss', factor=0.1, patience=3, verbose=1, min_delta=1e-4, mode='min')\n",
    "model.fit(train_generator,epochs=30,validation_data=validation_generator,callbacks=[earlyStopping, mcp_save, reduce_lr_loss]) "
   ]
  },
  {
   "cell_type": "code",
   "execution_count": 21,
   "metadata": {},
   "outputs": [
    {
     "name": "stdout",
     "output_type": "stream",
     "text": [
      "Val loss: 0.3750005066394806\n",
      "Val accuracy: 0.8980321884155273\n"
     ]
    }
   ],
   "source": [
    "# Using the validation dataset\n",
    "score = model.evaluate_generator(validation_generator)\n",
    "print('Val loss:', score[0])\n",
    "print('Val accuracy:', score[1])"
   ]
  }
 ],
 "metadata": {
  "kernelspec": {
   "display_name": "Python 3",
   "language": "python",
   "name": "python3"
  },
  "language_info": {
   "codemirror_mode": {
    "name": "ipython",
    "version": 3
   },
   "file_extension": ".py",
   "mimetype": "text/x-python",
   "name": "python",
   "nbconvert_exporter": "python",
   "pygments_lexer": "ipython3",
   "version": "3.11.5"
  }
 },
 "nbformat": 4,
 "nbformat_minor": 2
}
